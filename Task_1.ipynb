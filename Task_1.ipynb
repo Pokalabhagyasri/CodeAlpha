{
  "nbformat": 4,
  "nbformat_minor": 0,
  "metadata": {
    "colab": {
      "provenance": [],
      "authorship_tag": "ABX9TyP6ZG+d0XQTK58kl52mQVHC",
      "include_colab_link": true
    },
    "kernelspec": {
      "name": "python3",
      "display_name": "Python 3"
    },
    "language_info": {
      "name": "python"
    }
  },
  "cells": [
    {
      "cell_type": "markdown",
      "metadata": {
        "id": "view-in-github",
        "colab_type": "text"
      },
      "source": [
        "<a href=\"https://colab.research.google.com/github/Pokalabhagyasri/CodeAlpha/blob/main/Task_1.ipynb\" target=\"_parent\"><img src=\"https://colab.research.google.com/assets/colab-badge.svg\" alt=\"Open In Colab\"/></a>"
      ]
    },
    {
      "cell_type": "code",
      "source": [
        "#Web Scraping\n",
        "import requests\n",
        "from bs4 import BeautifulSoup\n",
        "#fetching html\n",
        "url=\"https://quotes.toscrape.com/\"\n",
        "response=requests.get(url)\n",
        "soup=BeautifulSoup(response.text,\"html.parser\")\n",
        "#extract data\n",
        "quotes=soup.find_all(\"span\",class_=\"text\")\n",
        "for quote in quotes:\n",
        "    print(quote.text)\n",
        "\n",
        "\n",
        "\n",
        "\n",
        "\n",
        "\n",
        "\n",
        "\n",
        "\n"
      ],
      "metadata": {
        "colab": {
          "base_uri": "https://localhost:8080/"
        },
        "id": "M57hYo51u5H2",
        "outputId": "9877824e-1547-40c1-d8f9-fb112e26d40b"
      },
      "execution_count": null,
      "outputs": [
        {
          "output_type": "stream",
          "name": "stdout",
          "text": [
            "“The world as we have created it is a process of our thinking. It cannot be changed without changing our thinking.”\n",
            "“It is our choices, Harry, that show what we truly are, far more than our abilities.”\n",
            "“There are only two ways to live your life. One is as though nothing is a miracle. The other is as though everything is a miracle.”\n",
            "“The person, be it gentleman or lady, who has not pleasure in a good novel, must be intolerably stupid.”\n",
            "“Imperfection is beauty, madness is genius and it's better to be absolutely ridiculous than absolutely boring.”\n",
            "“Try not to become a man of success. Rather become a man of value.”\n",
            "“It is better to be hated for what you are than to be loved for what you are not.”\n",
            "“I have not failed. I've just found 10,000 ways that won't work.”\n",
            "“A woman is like a tea bag; you never know how strong it is until it's in hot water.”\n",
            "“A day without sunshine is like, you know, night.”\n"
          ]
        }
      ]
    },
    {
      "cell_type": "code",
      "source": [
        "\n",
        "#TASK_2\n",
        "#Exploratory Data Analysis\n",
        "#import Library\n",
        "import pandas as pd\n",
        "#Load dataset\n",
        "df=pd.read_csv(\"/content/sample_data/UPI_Dataset.zip\")\n",
        "#Data structure\n",
        "print(df.head())\n",
        "print()\n",
        "print(df.info())\n",
        "print()\n",
        "print(df.describe())\n",
        "print()\n",
        "#Check for missing values\n",
        "print(df.isnull().sum())"
      ],
      "metadata": {
        "colab": {
          "base_uri": "https://localhost:8080/"
        },
        "id": "fNc5A-3mL4uU",
        "outputId": "214a0938-b17e-4e49-fa69-c6496e772a8f"
      },
      "execution_count": null,
      "outputs": [
        {
          "output_type": "stream",
          "name": "stdout",
          "text": [
            "  transaction id            timestamp transaction type merchant_category  \\\n",
            "0  TXN0000000001  2024-10-08 15:17:28              P2P     Entertainment   \n",
            "1  TXN0000000002  2024-04-11 06:56:00              P2M           Grocery   \n",
            "2  TXN0000000003  2024-04-02 13:27:18              P2P           Grocery   \n",
            "3  TXN0000000004  2024-01-07 10:09:17              P2P              Fuel   \n",
            "4  TXN0000000005  2024-01-23 19:04:23              P2P          Shopping   \n",
            "\n",
            "   amount (INR) transaction_status sender_age_group receiver_age_group  \\\n",
            "0           868            SUCCESS            26-35              18-25   \n",
            "1          1011            SUCCESS            26-35              26-35   \n",
            "2           477            SUCCESS            26-35              36-45   \n",
            "3          2784            SUCCESS            26-35              26-35   \n",
            "4           990            SUCCESS            26-35              18-25   \n",
            "\n",
            "    sender_state sender_bank receiver_bank device_type network_type  \\\n",
            "0          Delhi        Axis           SBI     Android           4G   \n",
            "1  Uttar Pradesh       ICICI          Axis         iOS           4G   \n",
            "2      Karnataka    Yes Bank           PNB     Android           4G   \n",
            "3          Delhi       ICICI           PNB     Android           5G   \n",
            "4          Delhi        Axis      Yes Bank         iOS         WiFi   \n",
            "\n",
            "   fraud_flag  hour_of_day day_of_week  is_weekend  \n",
            "0           0           15     Tuesday           0  \n",
            "1           0            6    Thursday           0  \n",
            "2           0           13     Tuesday           0  \n",
            "3           0           10      Sunday           1  \n",
            "4           0           19     Tuesday           0  \n",
            "\n",
            "<class 'pandas.core.frame.DataFrame'>\n",
            "RangeIndex: 250000 entries, 0 to 249999\n",
            "Data columns (total 17 columns):\n",
            " #   Column              Non-Null Count   Dtype \n",
            "---  ------              --------------   ----- \n",
            " 0   transaction id      250000 non-null  object\n",
            " 1   timestamp           250000 non-null  object\n",
            " 2   transaction type    250000 non-null  object\n",
            " 3   merchant_category   250000 non-null  object\n",
            " 4   amount (INR)        250000 non-null  int64 \n",
            " 5   transaction_status  250000 non-null  object\n",
            " 6   sender_age_group    250000 non-null  object\n",
            " 7   receiver_age_group  250000 non-null  object\n",
            " 8   sender_state        250000 non-null  object\n",
            " 9   sender_bank         250000 non-null  object\n",
            " 10  receiver_bank       250000 non-null  object\n",
            " 11  device_type         250000 non-null  object\n",
            " 12  network_type        250000 non-null  object\n",
            " 13  fraud_flag          250000 non-null  int64 \n",
            " 14  hour_of_day         250000 non-null  int64 \n",
            " 15  day_of_week         250000 non-null  object\n",
            " 16  is_weekend          250000 non-null  int64 \n",
            "dtypes: int64(4), object(13)\n",
            "memory usage: 32.4+ MB\n",
            "None\n",
            "\n",
            "        amount (INR)     fraud_flag    hour_of_day     is_weekend\n",
            "count  250000.000000  250000.000000  250000.000000  250000.000000\n",
            "mean     1311.756036       0.001920      14.681032       0.285348\n",
            "std      1848.059224       0.043776       5.188304       0.451581\n",
            "min        10.000000       0.000000       0.000000       0.000000\n",
            "25%       288.000000       0.000000      11.000000       0.000000\n",
            "50%       629.000000       0.000000      15.000000       0.000000\n",
            "75%      1596.000000       0.000000      19.000000       1.000000\n",
            "max     42099.000000       1.000000      23.000000       1.000000\n",
            "\n",
            "transaction id        0\n",
            "timestamp             0\n",
            "transaction type      0\n",
            "merchant_category     0\n",
            "amount (INR)          0\n",
            "transaction_status    0\n",
            "sender_age_group      0\n",
            "receiver_age_group    0\n",
            "sender_state          0\n",
            "sender_bank           0\n",
            "receiver_bank         0\n",
            "device_type           0\n",
            "network_type          0\n",
            "fraud_flag            0\n",
            "hour_of_day           0\n",
            "day_of_week           0\n",
            "is_weekend            0\n",
            "dtype: int64\n"
          ]
        }
      ]
    },
    {
      "cell_type": "code",
      "source": [
        "#Task_4\n",
        "#Sentiment Analysis\n",
        "import pandas as pd\n",
        "data=pd.read_csv(\"/content/sample_data/UPI_Dataset.zip\")\n",
        "from textblob import TextBlob\n",
        "review=\"This product is great!\"\n",
        "analysis=TextBlob(review)\n",
        "print(analysis.sentiment)\n",
        "if analysis.sentiment.polarity>0:\n",
        "  print(\"positive\")\n",
        "elif analysis.sentiment.polarity<0:\n",
        "  print(\"negative\")\n",
        "else:\n",
        "  print(\"neutral\")"
      ],
      "metadata": {
        "colab": {
          "base_uri": "https://localhost:8080/"
        },
        "id": "CiSfBT3lTswL",
        "outputId": "9dc13205-9a8f-4b1c-c553-f30a1e6ce570"
      },
      "execution_count": null,
      "outputs": [
        {
          "output_type": "stream",
          "name": "stdout",
          "text": [
            "Sentiment(polarity=1.0, subjectivity=0.75)\n",
            "positive\n"
          ]
        }
      ]
    }
  ]
}